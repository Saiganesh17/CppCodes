{
  "nbformat": 4,
  "nbformat_minor": 0,
  "metadata": {
    "colab": {
      "provenance": [],
      "include_colab_link": true
    },
    "kernelspec": {
      "name": "python3",
      "display_name": "Python 3"
    },
    "language_info": {
      "name": "python"
    }
  },
  "cells": [
    {
      "cell_type": "markdown",
      "metadata": {
        "id": "view-in-github",
        "colab_type": "text"
      },
      "source": [
        "<a href=\"https://colab.research.google.com/github/Saiganesh17/CppCodes/blob/main/tensorflow_and_pytorch.ipynb\" target=\"_parent\"><img src=\"https://colab.research.google.com/assets/colab-badge.svg\" alt=\"Open In Colab\"/></a>"
      ]
    },
    {
      "cell_type": "code",
      "execution_count": null,
      "metadata": {
        "colab": {
          "base_uri": "https://localhost:8080/"
        },
        "id": "5BiEEKdmP1WK",
        "outputId": "5b65dc5b-3d41-40aa-a3f9-372435177ff0"
      },
      "outputs": [
        {
          "output_type": "stream",
          "name": "stdout",
          "text": [
            "Downloading data from https://storage.googleapis.com/tensorflow/tf-keras-datasets/mnist.npz\n",
            "11490434/11490434 [==============================] - 0s 0us/step\n",
            "Epoch 1/5\n",
            "1875/1875 [==============================] - 7s 3ms/step - loss: 0.2950 - accuracy: 0.9139\n",
            "Epoch 2/5\n",
            "1875/1875 [==============================] - 9s 5ms/step - loss: 0.1419 - accuracy: 0.9569\n",
            "Epoch 3/5\n",
            "1875/1875 [==============================] - 5s 3ms/step - loss: 0.1079 - accuracy: 0.9675\n",
            "Epoch 4/5\n",
            "1875/1875 [==============================] - 6s 3ms/step - loss: 0.0877 - accuracy: 0.9723\n",
            "Epoch 5/5\n",
            "1875/1875 [==============================] - 5s 3ms/step - loss: 0.0743 - accuracy: 0.9763\n",
            "313/313 [==============================] - 1s 2ms/step - loss: 0.0849 - accuracy: 0.9742\n",
            "Test accuracy: 0.9742000102996826\n"
          ]
        }
      ],
      "source": [
        "import tensorflow as tf\n",
        "from tensorflow.keras import layers, models\n",
        "\n",
        "# Load dataset (e.g., MNIST)\n",
        "mnist = tf.keras.datasets.mnist\n",
        "(train_images, train_labels), (test_images, test_labels) = mnist.load_data()\n",
        "\n",
        "# Preprocess the data\n",
        "train_images, test_images = train_images / 255.0, test_images / 255.0\n",
        "\n",
        "# Build the neural networks\n",
        "model = models.Sequential([\n",
        "    layers.Flatten(input_shape=(28, 28)),\n",
        "    layers.Dense(128, activation='relu'),\n",
        "    layers.Dropout(0.2),\n",
        "    layers.Dense(10, activation='softmax')\n",
        "])\n",
        "\n",
        "# Compile the model\n",
        "model.compile(optimizer='adam',\n",
        "              loss='sparse_categorical_crossentropy',\n",
        "              metrics=['accuracy'])\n",
        "\n",
        "# Train the model\n",
        "model.fit(train_images, train_labels, epochs=5)\n",
        "\n",
        "# Evaluate the model\n",
        "test_loss, test_acc = model.evaluate(test_images, test_labels)\n",
        "print('Test accuracy:', test_acc)\n"
      ]
    },
    {
      "cell_type": "code",
      "source": [
        "data\n",
        "split train and test\n",
        "model\n",
        "data pass through that model with Target\n",
        "fit train\n",
        "evaluate metrics accuracy,loss function plus result"
      ],
      "metadata": {
        "id": "Y2ZjbHINuvrc"
      },
      "execution_count": null,
      "outputs": []
    },
    {
      "cell_type": "code",
      "source": [],
      "metadata": {
        "id": "9bZOlj5uJfH_"
      },
      "execution_count": null,
      "outputs": []
    },
    {
      "cell_type": "code",
      "source": [
        "import torch\n",
        "import torch.nn as nn\n",
        "import torch.optim as optim\n",
        "from torch.utils.data import DataLoader, TensorDataset\n",
        "\n",
        "# Step 1: Create a simple dataset\n",
        "# Let's create a dataset for a simple linear regression: y = 2x + 1\n",
        "x = torch.tensor([[1.0], [2.0], [3.0], [4.0], [5.0]])\n",
        "y = torch.tensor([[3.0], [5.0], [7.0], [9.0], [11.0]])\n",
        "\n",
        "dataset = TensorDataset(x, y)\n",
        "dataloader = DataLoader(dataset, batch_size=2, shuffle=True)\n",
        "\n",
        "# Step 2: Define a neural network\n",
        "class SimpleNet(nn.Module):\n",
        "    def __init__(self):\n",
        "        super(SimpleNet, self).__init__()\n",
        "        self.linear = nn.Linear(1, 1)\n",
        "\n",
        "    def forward(self, x):\n",
        "        return self.linear(x)\n",
        "\n",
        "model = SimpleNet()\n",
        "\n",
        "# Step 3: Define loss function and optimizer\n",
        "criterion = nn.MSELoss()\n",
        "optimizer = optim.SGD(model.parameters(), lr=0.01)\n",
        "\n",
        "# Step 4: Train the network\n",
        "num_epochs = 100\n",
        "for epoch in range(num_epochs):\n",
        "    for batch_x, batch_y in dataloader:\n",
        "        # Forward pass\n",
        "        outputs = model(batch_x)\n",
        "        loss = criterion(outputs, batch_y)\n",
        "\n",
        "        # Backward pass and optimization\n",
        "        optimizer.zero_grad()\n",
        "        loss.backward()\n",
        "        optimizer.step()\n",
        "\n",
        "    if (epoch+1) % 10 == 0:\n",
        "        print(f'Epoch [{epoch+1}/{num_epochs}], Loss: {loss.item():.4f}')\n",
        "\n",
        "# Step 5: Make predictions\n",
        "with torch.no_grad():\n",
        "    test_input = torch.tensor([[6.0]])\n",
        "    prediction = model(test_input)\n",
        "    print(f'Prediction for input 6.0: {prediction.item():.4f}')\n"
      ],
      "metadata": {
        "id": "uGMk82YynsK2",
        "colab": {
          "base_uri": "https://localhost:8080/"
        },
        "outputId": "e11c21bd-4633-4e1c-f3ca-be1f76cad173"
      },
      "execution_count": null,
      "outputs": [
        {
          "output_type": "stream",
          "name": "stdout",
          "text": [
            "Epoch [10/100], Loss: 0.0004\n",
            "Epoch [20/100], Loss: 0.0094\n",
            "Epoch [30/100], Loss: 0.0028\n",
            "Epoch [40/100], Loss: 0.0024\n",
            "Epoch [50/100], Loss: 0.0021\n",
            "Epoch [60/100], Loss: 0.0002\n",
            "Epoch [70/100], Loss: 0.0016\n",
            "Epoch [80/100], Loss: 0.0001\n",
            "Epoch [90/100], Loss: 0.0010\n",
            "Epoch [100/100], Loss: 0.0001\n",
            "Prediction for input 6.0: 12.9639\n"
          ]
        }
      ]
    }
  ]
}